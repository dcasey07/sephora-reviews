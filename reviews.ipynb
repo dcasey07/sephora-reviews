{
 "cells": [
  {
   "cell_type": "code",
   "execution_count": 1,
   "metadata": {},
   "outputs": [],
   "source": [
    "# Import dependencies\n",
    "import pandas as pd\n",
    "import numpy as np\n",
    "import zipfile\n",
    "import glob\n",
    "import shutil\n",
    "import sqlite3"
   ]
  },
  {
   "cell_type": "code",
   "execution_count": 2,
   "metadata": {},
   "outputs": [],
   "source": [
    "# Assigned variables to the paths\n",
    "zip_path = 'Resources/reviews_all.zip'\n",
    "unzipped = 'Resources/unzip-reviews'\n",
    "\n",
    "# Use zipfile to extract the archive\n",
    "with zipfile.ZipFile(zip_path, 'r') as zip_ref:\n",
    "    zip_ref.extractall(unzipped)"
   ]
  },
  {
   "cell_type": "code",
   "execution_count": 3,
   "metadata": {},
   "outputs": [],
   "source": [
    "# Assign the file names to a variable\n",
    "review_files = ['reviews_0-250.csv','reviews_250-500.csv','reviews_500-750.csv','reviews_750-1250.csv','reviews_1250-end.csv']\n",
    "\n",
    "# Use list comprehension to read the csv from the unzipped folder\n",
    "df = [pd.read_csv(f'{unzipped}/{review_file}', low_memory=False) for review_file in review_files]\n",
    "df = [pd.read_csv(file, low_memory=False) for file in glob.glob(f'{unzipped}/*.csv')]"
   ]
  },
  {
   "cell_type": "code",
   "execution_count": null,
   "metadata": {},
   "outputs": [],
   "source": [
    "# Concatenate dataframes\n",
    "merged_df = pd.concat(df, ignore_index=True)\n",
    "\n",
    "# Delete the unzipped folder to avoid pushing to github\n",
    "shutil.rmtree(unzipped)\n",
    "\n",
    "merged_df.head()"
   ]
  },
  {
   "cell_type": "code",
   "execution_count": 5,
   "metadata": {},
   "outputs": [],
   "source": [
    "# Merged on product id so the primary categories are assigned to each review, along with the ingredients if we decide to use them\n",
    "product_info_df = pd.read_csv('Resources/product_info.csv', low_memory=False)"
   ]
  },
  {
   "cell_type": "code",
   "execution_count": 6,
   "metadata": {},
   "outputs": [],
   "source": [
    "complete_df = pd.merge(merged_df, product_info_df[['product_id', 'secondary_category', 'ingredients']], on='product_id', how='left')"
   ]
  },
  {
   "cell_type": "code",
   "execution_count": 7,
   "metadata": {},
   "outputs": [],
   "source": [
    "complete_df['submission_time'] = pd.to_datetime(complete_df['submission_time'], format='%Y-%m-%d')"
   ]
  },
  {
   "cell_type": "code",
   "execution_count": null,
   "metadata": {},
   "outputs": [],
   "source": [
    "columns = ['product_id', 'product_name', 'brand_name', 'price_usd', 'secondary_category', 'rating', 'is_recommended', 'helpfulness', 'total_feedback_count', 'total_neg_feedback_count', 'total_pos_feedback_count', 'review_text', 'review_title', 'submission_time']\n",
    "complete_df = complete_df[columns]\n",
    "complete_df.head()"
   ]
  },
  {
   "cell_type": "code",
   "execution_count": null,
   "metadata": {},
   "outputs": [],
   "source": [
    "complete_df.info()"
   ]
  },
  {
   "cell_type": "code",
   "execution_count": null,
   "metadata": {},
   "outputs": [],
   "source": [
    "# Remove brands not related to the study\n",
    "target_brands = ['Tatcha', 'The Ordinary', 'Dior', 'Estée Lauder', 'LANEIGE']\n",
    "\n",
    "target_brands_df = complete_df[complete_df['brand_name'].isin(target_brands)]\n",
    "count_by_target_brand = target_brands_df['brand_name'].value_counts()\n",
    "count_by_target_brand"
   ]
  },
  {
   "cell_type": "code",
   "execution_count": null,
   "metadata": {},
   "outputs": [],
   "source": [
    "product = target_brands_df[target_brands_df['product_id'] == 'P417604']\n",
    "product"
   ]
  },
  {
   "cell_type": "code",
   "execution_count": null,
   "metadata": {},
   "outputs": [],
   "source": [
    "import seaborn as sns\n",
    "import matplotlib.pyplot as plt\n",
    "sns.boxplot(x='brand_name', y='rating', data=complete_df)\n",
    "plt.xticks(rotation=45)\n",
    "plt.show()"
   ]
  },
  {
   "cell_type": "code",
   "execution_count": null,
   "metadata": {},
   "outputs": [],
   "source": [
    "avg_price_per_brand = target_brands_df.groupby('brand_name')['price_usd'].mean()\n",
    "avg_price_per_brand.plot(kind='bar')"
   ]
  },
  {
   "cell_type": "code",
   "execution_count": null,
   "metadata": {},
   "outputs": [],
   "source": [
    "top_products = target_brands_df.groupby('product_name')['total_feedback_count'].sum().sort_values(ascending=False).head(10)\n",
    "top_products.plot(kind='bar')"
   ]
  },
  {
   "cell_type": "code",
   "execution_count": null,
   "metadata": {},
   "outputs": [],
   "source": [
    "target_brands_df.groupby('brand_name')[['total_pos_feedback_count', 'total_neg_feedback_count']].sum().plot(kind='bar', stacked=True)"
   ]
  },
  {
   "cell_type": "code",
   "execution_count": null,
   "metadata": {},
   "outputs": [],
   "source": [
    "brand_popularity = complete_df['brand_name'].value_counts().head(10)\n",
    "sns.barplot(x=brand_popularity.values, y=brand_popularity.index)\n",
    "plt.xlabel('Number of Reviews')\n",
    "plt.ylabel('Brand Name')\n",
    "plt.title('Top 10 Most Popular Brands')\n",
    "plt.show()"
   ]
  },
  {
   "cell_type": "code",
   "execution_count": null,
   "metadata": {},
   "outputs": [],
   "source": [
    "product_popularity = complete_df['product_name'].value_counts().head(10)\n",
    "sns.barplot(x=product_popularity.values, y=product_popularity.index)\n",
    "plt.xlabel('Number of Reviews')\n",
    "plt.ylabel('Product Name')\n",
    "plt.title('Top 10 Most Popular Products')\n",
    "plt.show()"
   ]
  },
  {
   "cell_type": "code",
   "execution_count": 18,
   "metadata": {},
   "outputs": [],
   "source": [
    "## This adds a new row that puts the brand name after the product name for display purposes,\n",
    "## but also adds it to the dataframe, so don't run the last cell to output to csv if you run this cell\n",
    "# complete_df['product_with_brand'] = complete_df['product_name'] + ' (' + complete_df['brand_name'] + ')'\n",
    "\n",
    "# product_popularity = complete_df['product_with_brand'].value_counts().head(10)\n",
    "# sns.barplot(x=product_popularity.values, y=product_popularity.index)\n",
    "# plt.xlabel('Number of Reviews')\n",
    "# plt.ylabel('Product (Brand)')\n",
    "# plt.title('Top 10 Most Popular Products (with Brand Names)')\n",
    "# plt.show()\n"
   ]
  },
  {
   "cell_type": "code",
   "execution_count": null,
   "metadata": {},
   "outputs": [],
   "source": [
    "product_stats = complete_df.groupby('product_name').agg(\n",
    "    total_reviews=pd.NamedAgg(column='is_recommended', aggfunc='count'),\n",
    "    recommended_sum=pd.NamedAgg(column='is_recommended', aggfunc='sum'))\n",
    "product_stats['recommended_percentage'] = (product_stats['recommended_sum'] / product_stats['total_reviews']) * 100\n",
    "threshold = 5000\n",
    "filtered_products = product_stats[product_stats['total_reviews'] >= threshold]\n",
    "top_products = filtered_products.sort_values('recommended_percentage', ascending=False).head(20)\n",
    "sns.barplot(x=top_products['recommended_percentage'], y=top_products.index)\n",
    "plt.xlabel('Percentage of Recommended Reviews')\n",
    "plt.ylabel('Product Name')\n",
    "plt.title('Top Products by Percentage of Recommended Reviews (Min ' + str(threshold) + ' Reviews)')\n",
    "plt.show()\n"
   ]
  },
  {
   "cell_type": "code",
   "execution_count": null,
   "metadata": {},
   "outputs": [],
   "source": [
    "complete_df['helpfulness'].value_counts().head(35)"
   ]
  },
  {
   "cell_type": "code",
   "execution_count": 21,
   "metadata": {},
   "outputs": [],
   "source": [
    "# Don't push this file to the repository, it's too large\n",
    "# This is for the postgreSQL database and must be done from a local repository\n",
    "# Uncomment this if you want to save it for yourself\n",
    "# complete_df.to_csv('Resources/complete_df.csv', index=False, encoding='utf=8')\n"
   ]
  },
  {
   "cell_type": "code",
   "execution_count": 22,
   "metadata": {},
   "outputs": [],
   "source": [
    "# JSON File conversion (Run this to get the JSON File, Keep on Local and do not push to repository)\n",
    "# Too large for our purposes and cannot load on html. Uncomment this if you want to save it for yourself\n",
    "# complete_df.to_json('Resources/complete_json.json', orient='records')"
   ]
  },
  {
   "cell_type": "code",
   "execution_count": 23,
   "metadata": {},
   "outputs": [],
   "source": [
    "# Smaller subset that queries entries from 2022-03-01 to 2023-03\n",
    "oneyear_df = complete_df[complete_df['submission_time'] >= pd.Timestamp('2022-03-01')]\n",
    "oneyear_df.to_json('Resources/oneyear_df.json', orient='records')"
   ]
  },
  {
   "cell_type": "code",
   "execution_count": null,
   "metadata": {},
   "outputs": [],
   "source": [
    "product_popularity = oneyear_df['product_name'].value_counts().head(10)\n",
    "sns.barplot(x=product_popularity.values, y=product_popularity.index)\n",
    "plt.xlabel('Number of Reviews')\n",
    "plt.ylabel('Product Name')\n",
    "plt.title('Top 10 Most Popular Products')\n",
    "plt.show()"
   ]
  },
  {
   "cell_type": "code",
   "execution_count": null,
   "metadata": {},
   "outputs": [],
   "source": [
    "brand_popularity = oneyear_df['brand_name'].value_counts().head(10)\n",
    "sns.barplot(x=brand_popularity.values, y=brand_popularity.index)\n",
    "plt.xlabel('Number of Reviews')\n",
    "plt.ylabel('Brand Name')\n",
    "plt.title('Top 10 Most Popular Brands')\n",
    "plt.show()"
   ]
  },
  {
   "cell_type": "code",
   "execution_count": 26,
   "metadata": {},
   "outputs": [],
   "source": [
    "# SQLite database creation\n",
    "# Clean headers to prep for transferring into db\n",
    "oneyear_df.columns = oneyear_df.columns.str.strip()\n",
    "\n",
    "# Connect to SQLite\n",
    "conn = sqlite3.connect('Resources/reviews.sqlite')\n",
    "\n",
    "# Load to SQLite\n",
    "oneyear_df.to_sql('reviews', conn, if_exists='replace', index=True)\n",
    "\n",
    "# Close the connection\n",
    "conn.close()"
   ]
  },
  {
   "cell_type": "code",
   "execution_count": null,
   "metadata": {},
   "outputs": [],
   "source": []
  }
 ],
 "metadata": {
  "kernelspec": {
   "display_name": "PythonData_2023_08",
   "language": "python",
   "name": "python3"
  },
  "language_info": {
   "codemirror_mode": {
    "name": "ipython",
    "version": 3
   },
   "file_extension": ".py",
   "mimetype": "text/x-python",
   "name": "python",
   "nbconvert_exporter": "python",
   "pygments_lexer": "ipython3",
   "version": "3.10.13"
  }
 },
 "nbformat": 4,
 "nbformat_minor": 2
}
